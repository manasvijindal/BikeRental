{
  "cells": [
    {
      "cell_type": "code",
      "execution_count": null,
      "id": "7942ab50",
      "metadata": {
        "id": "7942ab50"
      },
      "outputs": [],
      "source": [
        "import pandas as pd\n",
        "import seaborn as sns\n",
        "import numpy as np\n",
        "from sklearn.preprocessing import LabelEncoder\n",
        "from sklearn.model_selection import train_test_split\n",
        "from sklearn.linear_model import LinearRegression\n",
        "from sklearn.metrics import mean_squared_error, r2_score\n",
        "import matplotlib.pyplot as plt\n",
        "from statsmodels.stats.outliers_influence import variance_inflation_factor\n",
        "import statsmodels.api as sm\n",
        "from scipy import stats\n",
        "%matplotlib inline"
      ]
    },
    {
      "cell_type": "code",
      "execution_count": null,
      "id": "5a5dfe6b",
      "metadata": {
        "id": "5a5dfe6b"
      },
      "outputs": [],
      "source": [
        "df = pd.read_csv(r\"C:\\Users\\Manasvi JIndal\\Desktop\\College\\sem4\\ml\\labs\\bikes.csv.csv\")"
      ]
    },
    {
      "cell_type": "code",
      "execution_count": null,
      "id": "724a630c",
      "metadata": {
        "id": "724a630c",
        "outputId": "32126a4c-0db6-40b3-cce7-5f6371a70496"
      },
      "outputs": [
        {
          "data": {
            "text/html": [
              "<div>\n",
              "<style scoped>\n",
              "    .dataframe tbody tr th:only-of-type {\n",
              "        vertical-align: middle;\n",
              "    }\n",
              "\n",
              "    .dataframe tbody tr th {\n",
              "        vertical-align: top;\n",
              "    }\n",
              "\n",
              "    .dataframe thead th {\n",
              "        text-align: right;\n",
              "    }\n",
              "</style>\n",
              "<table border=\"1\" class=\"dataframe\">\n",
              "  <thead>\n",
              "    <tr style=\"text-align: right;\">\n",
              "      <th></th>\n",
              "      <th>date</th>\n",
              "      <th>season</th>\n",
              "      <th>holiday</th>\n",
              "      <th>weekday</th>\n",
              "      <th>weather</th>\n",
              "      <th>temperature</th>\n",
              "      <th>realfeel</th>\n",
              "      <th>humidity</th>\n",
              "      <th>windspeed</th>\n",
              "      <th>rentals</th>\n",
              "    </tr>\n",
              "  </thead>\n",
              "  <tbody>\n",
              "    <tr>\n",
              "      <th>0</th>\n",
              "      <td>2011-01-01</td>\n",
              "      <td>1</td>\n",
              "      <td>0</td>\n",
              "      <td>6</td>\n",
              "      <td>2</td>\n",
              "      <td>46.716528</td>\n",
              "      <td>46.398650</td>\n",
              "      <td>0.805833</td>\n",
              "      <td>6.679665</td>\n",
              "      <td>985</td>\n",
              "    </tr>\n",
              "    <tr>\n",
              "      <th>1</th>\n",
              "      <td>2011-01-02</td>\n",
              "      <td>1</td>\n",
              "      <td>0</td>\n",
              "      <td>0</td>\n",
              "      <td>2</td>\n",
              "      <td>48.350239</td>\n",
              "      <td>45.224193</td>\n",
              "      <td>0.696087</td>\n",
              "      <td>10.347140</td>\n",
              "      <td>801</td>\n",
              "    </tr>\n",
              "    <tr>\n",
              "      <th>2</th>\n",
              "      <td>2011-01-03</td>\n",
              "      <td>1</td>\n",
              "      <td>0</td>\n",
              "      <td>1</td>\n",
              "      <td>1</td>\n",
              "      <td>34.212394</td>\n",
              "      <td>25.701314</td>\n",
              "      <td>0.437273</td>\n",
              "      <td>10.337565</td>\n",
              "      <td>1349</td>\n",
              "    </tr>\n",
              "    <tr>\n",
              "      <th>3</th>\n",
              "      <td>2011-01-04</td>\n",
              "      <td>1</td>\n",
              "      <td>0</td>\n",
              "      <td>2</td>\n",
              "      <td>1</td>\n",
              "      <td>34.520000</td>\n",
              "      <td>28.400094</td>\n",
              "      <td>0.590435</td>\n",
              "      <td>6.673420</td>\n",
              "      <td>1562</td>\n",
              "    </tr>\n",
              "    <tr>\n",
              "      <th>4</th>\n",
              "      <td>2011-01-05</td>\n",
              "      <td>1</td>\n",
              "      <td>0</td>\n",
              "      <td>3</td>\n",
              "      <td>1</td>\n",
              "      <td>36.800562</td>\n",
              "      <td>30.437276</td>\n",
              "      <td>0.436957</td>\n",
              "      <td>7.780994</td>\n",
              "      <td>1600</td>\n",
              "    </tr>\n",
              "  </tbody>\n",
              "</table>\n",
              "</div>"
            ],
            "text/plain": [
              "         date  season  holiday  weekday  weather  temperature   realfeel  \\\n",
              "0  2011-01-01       1        0        6        2    46.716528  46.398650   \n",
              "1  2011-01-02       1        0        0        2    48.350239  45.224193   \n",
              "2  2011-01-03       1        0        1        1    34.212394  25.701314   \n",
              "3  2011-01-04       1        0        2        1    34.520000  28.400094   \n",
              "4  2011-01-05       1        0        3        1    36.800562  30.437276   \n",
              "\n",
              "   humidity  windspeed  rentals  \n",
              "0  0.805833   6.679665      985  \n",
              "1  0.696087  10.347140      801  \n",
              "2  0.437273  10.337565     1349  \n",
              "3  0.590435   6.673420     1562  \n",
              "4  0.436957   7.780994     1600  "
            ]
          },
          "execution_count": 25,
          "metadata": {},
          "output_type": "execute_result"
        }
      ],
      "source": [
        "df.head()"
      ]
    },
    {
      "cell_type": "code",
      "execution_count": null,
      "id": "e1376485",
      "metadata": {
        "id": "e1376485",
        "outputId": "f3805daf-141c-4929-bfd3-e5842ec6a3f6"
      },
      "outputs": [
        {
          "data": {
            "text/plain": [
              "date           731\n",
              "season         731\n",
              "holiday        731\n",
              "weekday        731\n",
              "weather        731\n",
              "temperature    731\n",
              "realfeel       731\n",
              "humidity       731\n",
              "windspeed      731\n",
              "rentals        731\n",
              "dtype: int64"
            ]
          },
          "execution_count": 41,
          "metadata": {},
          "output_type": "execute_result"
        }
      ],
      "source": [
        "df.count()"
      ]
    },
    {
      "cell_type": "markdown",
      "id": "53d9e17d",
      "metadata": {
        "id": "53d9e17d"
      },
      "source": [
        "### Cleaning data - check for missing values"
      ]
    },
    {
      "cell_type": "code",
      "execution_count": null,
      "id": "b675d010",
      "metadata": {
        "id": "b675d010",
        "outputId": "939a3dca-d777-40cc-ad0b-532dc7b2504a"
      },
      "outputs": [
        {
          "data": {
            "text/plain": [
              "date           0\n",
              "season         0\n",
              "holiday        0\n",
              "weekday        0\n",
              "weather        0\n",
              "temperature    0\n",
              "realfeel       0\n",
              "humidity       0\n",
              "windspeed      0\n",
              "rentals        0\n",
              "dtype: int64"
            ]
          },
          "execution_count": 26,
          "metadata": {},
          "output_type": "execute_result"
        }
      ],
      "source": [
        "df.isnull().sum()"
      ]
    },
    {
      "cell_type": "code",
      "execution_count": null,
      "id": "e511a78d",
      "metadata": {
        "id": "e511a78d",
        "outputId": "0f8676ef-43d4-4bcb-9da2-ef21a3eb564d"
      },
      "outputs": [
        {
          "name": "stdout",
          "output_type": "stream",
          "text": [
            "<class 'pandas.core.frame.DataFrame'>\n",
            "RangeIndex: 731 entries, 0 to 730\n",
            "Data columns (total 10 columns):\n",
            " #   Column       Non-Null Count  Dtype  \n",
            "---  ------       --------------  -----  \n",
            " 0   date         731 non-null    object \n",
            " 1   season       731 non-null    int64  \n",
            " 2   holiday      731 non-null    int64  \n",
            " 3   weekday      731 non-null    int64  \n",
            " 4   weather      731 non-null    int64  \n",
            " 5   temperature  731 non-null    float64\n",
            " 6   realfeel     731 non-null    float64\n",
            " 7   humidity     731 non-null    float64\n",
            " 8   windspeed    731 non-null    float64\n",
            " 9   rentals      731 non-null    int64  \n",
            "dtypes: float64(4), int64(5), object(1)\n",
            "memory usage: 57.2+ KB\n"
          ]
        }
      ],
      "source": [
        "df.info()"
      ]
    },
    {
      "cell_type": "code",
      "execution_count": null,
      "id": "815b2e23",
      "metadata": {
        "id": "815b2e23"
      },
      "outputs": [],
      "source": [
        "z_scores = np.abs(stats.zscore(df.select_dtypes(include=np.number)))"
      ]
    },
    {
      "cell_type": "code",
      "execution_count": null,
      "id": "b7a6703f",
      "metadata": {
        "id": "b7a6703f"
      },
      "outputs": [],
      "source": [
        "# Set a threshold for Z-scores (e.g., 3 standard deviations)\n",
        "threshold = 3\n",
        "outliers = np.where(z_scores > threshold)"
      ]
    },
    {
      "cell_type": "code",
      "execution_count": null,
      "id": "8000fb12",
      "metadata": {
        "id": "8000fb12"
      },
      "outputs": [],
      "source": [
        "# Remove rows containing outliers\n",
        "df_no_outliers = df[(z_scores < threshold).all(axis=1)]"
      ]
    },
    {
      "cell_type": "code",
      "execution_count": null,
      "id": "cb4fce2f",
      "metadata": {
        "id": "cb4fce2f",
        "outputId": "ea1139ae-32b7-46da-95f5-72941ee9e103"
      },
      "outputs": [
        {
          "name": "stdout",
          "output_type": "stream",
          "text": [
            "Original dataset shape: (731, 11)\n",
            "Dataset shape after removing outliers: (707, 11)\n"
          ]
        }
      ],
      "source": [
        "print(f\"Original dataset shape: {df.shape}\")\n",
        "print(f\"Dataset shape after removing outliers: {df_no_outliers.shape}\")"
      ]
    },
    {
      "cell_type": "markdown",
      "id": "4e8a0bcd",
      "metadata": {
        "id": "4e8a0bcd"
      },
      "source": [
        "### Visualising Data - Histograms, Distributions and Bar Charts"
      ]
    },
    {
      "cell_type": "code",
      "execution_count": null,
      "id": "4d46eb11",
      "metadata": {
        "id": "4d46eb11",
        "outputId": "f45ce542-d83f-4a1e-b1f9-76d5de4070ae"
      },
      "outputs": [
        {
          "data": {
            "text/plain": [
              "<Axes: xlabel='temperature'>"
            ]
          },
          "execution_count": 123,
          "metadata": {},
          "output_type": "execute_result"
        },
        {
          "data": {
            "image/png": "[encoded data removed]",
            "text/plain": [
              "<Figure size 640x480 with 1 Axes>"
            ]
          },
          "metadata": {},
          "output_type": "display_data"
        }
      ],
      "source": [
        "sns.boxplot(x=df['temperature'])            # Exploring the distribution of each variable and identify outliers"
      ]
    },
    {
      "cell_type": "code",
      "execution_count": null,
      "id": "d4f51374",
      "metadata": {
        "id": "d4f51374"
      },
      "outputs": [],
      "source": [
        "le = LabelEncoder()\n",
        "df['season'] = le.fit_transform(df['season'])\n",
        "df['weekday'] = le.fit_transform(df['weekday'])\n",
        "df['weather'] = le.fit_transform(df['weather'])"
      ]
    },
    {
      "cell_type": "code",
      "execution_count": null,
      "id": "aabe3ee3",
      "metadata": {
        "id": "aabe3ee3",
        "outputId": "e48d30b1-d079-4020-8522-94552557f7ec"
      },
      "outputs": [
        {
          "data": {
            "text/plain": [
              "<Axes: xlabel='rentals', ylabel='Count'>"
            ]
          },
          "execution_count": 125,
          "metadata": {},
          "output_type": "execute_result"
        },
        {
          "data": {
            "image/png": "[encoded data removed]",
            "text/plain": [
              "<Figure size 640x480 with 1 Axes>"
            ]
          },
          "metadata": {},
          "output_type": "display_data"
        }
      ],
      "source": [
        "sns.histplot(df['rentals'])"
      ]
    },
    {
      "cell_type": "code",
      "execution_count": null,
      "id": "68d35ced",
      "metadata": {
        "id": "68d35ced",
        "outputId": "7069b367-4787-48f9-aa6c-b8aa94cdd2b0"
      },
      "outputs": [
        {
          "data": {
            "text/html": [
              "<div>\n",
              "<style scoped>\n",
              "    .dataframe tbody tr th:only-of-type {\n",
              "        vertical-align: middle;\n",
              "    }\n",
              "\n",
              "    .dataframe tbody tr th {\n",
              "        vertical-align: top;\n",
              "    }\n",
              "\n",
              "    .dataframe thead th {\n",
              "        text-align: right;\n",
              "    }\n",
              "</style>\n",
              "<table border=\"1\" class=\"dataframe\">\n",
              "  <thead>\n",
              "    <tr style=\"text-align: right;\">\n",
              "      <th></th>\n",
              "      <th>date</th>\n",
              "      <th>season</th>\n",
              "      <th>holiday</th>\n",
              "      <th>weekday</th>\n",
              "      <th>weather</th>\n",
              "      <th>temperature</th>\n",
              "      <th>realfeel</th>\n",
              "      <th>humidity</th>\n",
              "      <th>windspeed</th>\n",
              "      <th>rentals</th>\n",
              "      <th>weekday_name</th>\n",
              "    </tr>\n",
              "  </thead>\n",
              "  <tbody>\n",
              "    <tr>\n",
              "      <th>0</th>\n",
              "      <td>2011-01-01</td>\n",
              "      <td>0</td>\n",
              "      <td>0</td>\n",
              "      <td>6</td>\n",
              "      <td>1</td>\n",
              "      <td>46.716528</td>\n",
              "      <td>46.398650</td>\n",
              "      <td>0.805833</td>\n",
              "      <td>6.679665</td>\n",
              "      <td>985</td>\n",
              "      <td>Sunday</td>\n",
              "    </tr>\n",
              "    <tr>\n",
              "      <th>1</th>\n",
              "      <td>2011-01-02</td>\n",
              "      <td>0</td>\n",
              "      <td>0</td>\n",
              "      <td>0</td>\n",
              "      <td>1</td>\n",
              "      <td>48.350239</td>\n",
              "      <td>45.224193</td>\n",
              "      <td>0.696087</td>\n",
              "      <td>10.347140</td>\n",
              "      <td>801</td>\n",
              "      <td>Monday</td>\n",
              "    </tr>\n",
              "    <tr>\n",
              "      <th>2</th>\n",
              "      <td>2011-01-03</td>\n",
              "      <td>0</td>\n",
              "      <td>0</td>\n",
              "      <td>1</td>\n",
              "      <td>0</td>\n",
              "      <td>34.212394</td>\n",
              "      <td>25.701314</td>\n",
              "      <td>0.437273</td>\n",
              "      <td>10.337565</td>\n",
              "      <td>1349</td>\n",
              "      <td>Tuesday</td>\n",
              "    </tr>\n",
              "    <tr>\n",
              "      <th>3</th>\n",
              "      <td>2011-01-04</td>\n",
              "      <td>0</td>\n",
              "      <td>0</td>\n",
              "      <td>2</td>\n",
              "      <td>0</td>\n",
              "      <td>34.520000</td>\n",
              "      <td>28.400094</td>\n",
              "      <td>0.590435</td>\n",
              "      <td>6.673420</td>\n",
              "      <td>1562</td>\n",
              "      <td>Wednesday</td>\n",
              "    </tr>\n",
              "    <tr>\n",
              "      <th>4</th>\n",
              "      <td>2011-01-05</td>\n",
              "      <td>0</td>\n",
              "      <td>0</td>\n",
              "      <td>3</td>\n",
              "      <td>0</td>\n",
              "      <td>36.800562</td>\n",
              "      <td>30.437276</td>\n",
              "      <td>0.436957</td>\n",
              "      <td>7.780994</td>\n",
              "      <td>1600</td>\n",
              "      <td>Thursday</td>\n",
              "    </tr>\n",
              "  </tbody>\n",
              "</table>\n",
              "</div>"
            ],
            "text/plain": [
              "         date  season  holiday  weekday  weather  temperature   realfeel  \\\n",
              "0  2011-01-01       0        0        6        1    46.716528  46.398650   \n",
              "1  2011-01-02       0        0        0        1    48.350239  45.224193   \n",
              "2  2011-01-03       0        0        1        0    34.212394  25.701314   \n",
              "3  2011-01-04       0        0        2        0    34.520000  28.400094   \n",
              "4  2011-01-05       0        0        3        0    36.800562  30.437276   \n",
              "\n",
              "   humidity  windspeed  rentals weekday_name  \n",
              "0  0.805833   6.679665      985       Sunday  \n",
              "1  0.696087  10.347140      801       Monday  \n",
              "2  0.437273  10.337565     1349      Tuesday  \n",
              "3  0.590435   6.673420     1562    Wednesday  \n",
              "4  0.436957   7.780994     1600     Thursday  "
            ]
          },
          "execution_count": 126,
          "metadata": {},
          "output_type": "execute_result"
        }
      ],
      "source": [
        "df.head()"
      ]
    },
    {
      "cell_type": "code",
      "execution_count": null,
      "id": "0688cc73",
      "metadata": {
        "id": "0688cc73",
        "outputId": "f92c92b7-8208-41aa-e89f-101d2e9fb25e"
      },
      "outputs": [
        {
          "name": "stderr",
          "output_type": "stream",
          "text": [
            "C:\\Users\\Manasvi JIndal\\AppData\\Local\\Temp\\ipykernel_20880\\2350740671.py:6: FutureWarning: \n",
            "\n",
            "The `ci` parameter is deprecated. Use `errorbar=None` for the same effect.\n",
            "\n",
            "  sns.barplot(x='weekday_name', y='rentals', data=df, ci=None, palette='viridis')\n"
          ]
        },
        {
          "data": {
            "image/png": "[encoded data removed]",
            "text/plain": [
              "<Figure size 700x300 with 1 Axes>"
            ]
          },
          "metadata": {},
          "output_type": "display_data"
        }
      ],
      "source": [
        "weekday_mapping = {0: 'Monday', 1: 'Tuesday', 2: 'Wednesday', 3: 'Thursday', 4: 'Friday', 5: 'Saturday', 6: 'Sunday'}\n",
        "\n",
        "df['weekday_name'] = df['weekday'].map(weekday_mapping)\n",
        "\n",
        "plt.figure(figsize=(7, 3))\n",
        "sns.barplot(x='weekday_name', y='rentals', data=df, ci=None, palette='viridis')\n",
        "plt.xlabel('Weekday')\n",
        "plt.ylabel('Rental Count')\n",
        "plt.title('Rental Count by Weekday')\n",
        "plt.show()\n"
      ]
    },
    {
      "cell_type": "code",
      "execution_count": null,
      "id": "96e5f911",
      "metadata": {
        "id": "96e5f911",
        "outputId": "723da6ea-b013-4c3f-dc80-1e2c93e49d87"
      },
      "outputs": [
        {
          "name": "stderr",
          "output_type": "stream",
          "text": [
            "C:\\Users\\Manasvi JIndal\\AppData\\Local\\Temp\\ipykernel_20880\\1986481992.py:2: FutureWarning: \n",
            "\n",
            "The `ci` parameter is deprecated. Use `errorbar=None` for the same effect.\n",
            "\n",
            "  sns.barplot(x='weather', y='rentals', data=df, ci=None, palette='viridis')\n"
          ]
        },
        {
          "data": {
            "image/png": "[encoded data removed]",
            "text/plain": [
              "<Figure size 700x300 with 1 Axes>"
            ]
          },
          "metadata": {},
          "output_type": "display_data"
        }
      ],
      "source": [
        "plt.figure(figsize=(7, 3))\n",
        "sns.barplot(x='weather', y='rentals', data=df, ci=None, palette='viridis')\n",
        "plt.xlabel('weather')\n",
        "plt.ylabel('Rental Count')\n",
        "plt.title('Rental Count by weather')\n",
        "plt.show()"
      ]
    },
    {
      "cell_type": "markdown",
      "id": "09c29c6e",
      "metadata": {
        "id": "09c29c6e"
      },
      "source": [
        "### Descriptive Statistics"
      ]
    },
    {
      "cell_type": "code",
      "execution_count": null,
      "id": "c50e11fd",
      "metadata": {
        "id": "c50e11fd",
        "outputId": "86c7a775-3fab-4ee0-99d1-42791bf645b9"
      },
      "outputs": [
        {
          "data": {
            "text/plain": [
              "date            2011-01-01\n",
              "season                   0\n",
              "holiday                  0\n",
              "weekday                  0\n",
              "weather                  0\n",
              "temperature      22.602432\n",
              "realfeel         12.593468\n",
              "humidity               0.0\n",
              "windspeed         0.932208\n",
              "rentals                 22\n",
              "weekday_name        Friday\n",
              "dtype: object"
            ]
          },
          "execution_count": 129,
          "metadata": {},
          "output_type": "execute_result"
        }
      ],
      "source": [
        "df.min()"
      ]
    },
    {
      "cell_type": "code",
      "execution_count": null,
      "id": "917e5680",
      "metadata": {
        "id": "917e5680",
        "outputId": "7636f403-ffc5-4986-9fb7-9072a83fc5e0"
      },
      "outputs": [
        {
          "data": {
            "text/plain": [
              "date            2012-12-31\n",
              "season                   3\n",
              "holiday                  1\n",
              "weekday                  6\n",
              "weather                  2\n",
              "temperature      90.497028\n",
              "realfeel        103.098445\n",
              "humidity            0.9725\n",
              "windspeed        21.126627\n",
              "rentals               8714\n",
              "weekday_name     Wednesday\n",
              "dtype: object"
            ]
          },
          "execution_count": 130,
          "metadata": {},
          "output_type": "execute_result"
        }
      ],
      "source": [
        "df.max()"
      ]
    },
    {
      "cell_type": "code",
      "execution_count": null,
      "id": "d44187f1",
      "metadata": {
        "id": "d44187f1",
        "outputId": "e4b72d04-f69b-471c-be6f-cb0473844ff3"
      },
      "outputs": [
        {
          "name": "stderr",
          "output_type": "stream",
          "text": [
            "C:\\Users\\Manasvi JIndal\\AppData\\Local\\Temp\\ipykernel_20880\\3698961737.py:1: FutureWarning: The default value of numeric_only in DataFrame.mean is deprecated. In a future version, it will default to False. In addition, specifying 'numeric_only=None' is deprecated. Select only valid columns or specify the value of numeric_only to silence this warning.\n",
            "  df.mean()\n"
          ]
        },
        {
          "data": {
            "text/plain": [
              "season            1.496580\n",
              "holiday           0.028728\n",
              "weekday           2.997264\n",
              "weather           0.395349\n",
              "temperature      59.509553\n",
              "realfeel         59.553254\n",
              "humidity          0.627894\n",
              "windspeed         7.930295\n",
              "rentals        4504.348837\n",
              "dtype: float64"
            ]
          },
          "execution_count": 131,
          "metadata": {},
          "output_type": "execute_result"
        }
      ],
      "source": [
        "df.mean()"
      ]
    },
    {
      "cell_type": "code",
      "execution_count": null,
      "id": "e3ba733e",
      "metadata": {
        "id": "e3ba733e",
        "outputId": "d7796279-4c0a-4e5d-f2fe-1bce40d68c6d"
      },
      "outputs": [
        {
          "name": "stderr",
          "output_type": "stream",
          "text": [
            "C:\\Users\\Manasvi JIndal\\AppData\\Local\\Temp\\ipykernel_20880\\530051474.py:1: FutureWarning: The default value of numeric_only in DataFrame.median is deprecated. In a future version, it will default to False. In addition, specifying 'numeric_only=None' is deprecated. Select only valid columns or specify the value of numeric_only to silence this warning.\n",
            "  df.median()\n"
          ]
        },
        {
          "data": {
            "text/plain": [
              "season            2.000000\n",
              "holiday           0.000000\n",
              "weekday           3.000000\n",
              "weather           0.000000\n",
              "temperature      59.758972\n",
              "realfeel         61.023880\n",
              "humidity          0.626667\n",
              "windspeed         7.534325\n",
              "rentals        4548.000000\n",
              "dtype: float64"
            ]
          },
          "execution_count": 132,
          "metadata": {},
          "output_type": "execute_result"
        }
      ],
      "source": [
        "df.median()"
      ]
    },
    {
      "cell_type": "code",
      "execution_count": null,
      "id": "e18ef4b6",
      "metadata": {
        "id": "e18ef4b6",
        "outputId": "4be3bffd-527e-41af-d5ae-f812296a7b5a"
      },
      "outputs": [
        {
          "data": {
            "text/html": [
              "<div>\n",
              "<style scoped>\n",
              "    .dataframe tbody tr th:only-of-type {\n",
              "        vertical-align: middle;\n",
              "    }\n",
              "\n",
              "    .dataframe tbody tr th {\n",
              "        vertical-align: top;\n",
              "    }\n",
              "\n",
              "    .dataframe thead th {\n",
              "        text-align: right;\n",
              "    }\n",
              "</style>\n",
              "<table border=\"1\" class=\"dataframe\">\n",
              "  <thead>\n",
              "    <tr style=\"text-align: right;\">\n",
              "      <th></th>\n",
              "      <th>count</th>\n",
              "      <th>mean</th>\n",
              "      <th>std</th>\n",
              "      <th>min</th>\n",
              "      <th>25%</th>\n",
              "      <th>50%</th>\n",
              "      <th>75%</th>\n",
              "      <th>max</th>\n",
              "    </tr>\n",
              "  </thead>\n",
              "  <tbody>\n",
              "    <tr>\n",
              "      <th>season</th>\n",
              "      <td>731.0</td>\n",
              "      <td>1.496580</td>\n",
              "      <td>1.110807</td>\n",
              "      <td>0.000000</td>\n",
              "      <td>1.000000</td>\n",
              "      <td>2.000000</td>\n",
              "      <td>2.000000</td>\n",
              "      <td>3.000000</td>\n",
              "    </tr>\n",
              "    <tr>\n",
              "      <th>holiday</th>\n",
              "      <td>731.0</td>\n",
              "      <td>0.028728</td>\n",
              "      <td>0.167155</td>\n",
              "      <td>0.000000</td>\n",
              "      <td>0.000000</td>\n",
              "      <td>0.000000</td>\n",
              "      <td>0.000000</td>\n",
              "      <td>1.000000</td>\n",
              "    </tr>\n",
              "    <tr>\n",
              "      <th>weekday</th>\n",
              "      <td>731.0</td>\n",
              "      <td>2.997264</td>\n",
              "      <td>2.004787</td>\n",
              "      <td>0.000000</td>\n",
              "      <td>1.000000</td>\n",
              "      <td>3.000000</td>\n",
              "      <td>5.000000</td>\n",
              "      <td>6.000000</td>\n",
              "    </tr>\n",
              "    <tr>\n",
              "      <th>weather</th>\n",
              "      <td>731.0</td>\n",
              "      <td>0.395349</td>\n",
              "      <td>0.544894</td>\n",
              "      <td>0.000000</td>\n",
              "      <td>0.000000</td>\n",
              "      <td>0.000000</td>\n",
              "      <td>1.000000</td>\n",
              "      <td>2.000000</td>\n",
              "    </tr>\n",
              "    <tr>\n",
              "      <th>temperature</th>\n",
              "      <td>731.0</td>\n",
              "      <td>59.509553</td>\n",
              "      <td>15.486114</td>\n",
              "      <td>22.602432</td>\n",
              "      <td>46.117264</td>\n",
              "      <td>59.758972</td>\n",
              "      <td>73.048236</td>\n",
              "      <td>90.497028</td>\n",
              "    </tr>\n",
              "    <tr>\n",
              "      <th>realfeel</th>\n",
              "      <td>731.0</td>\n",
              "      <td>59.553254</td>\n",
              "      <td>19.359788</td>\n",
              "      <td>12.593468</td>\n",
              "      <td>43.335689</td>\n",
              "      <td>61.023880</td>\n",
              "      <td>75.501918</td>\n",
              "      <td>103.098445</td>\n",
              "    </tr>\n",
              "    <tr>\n",
              "      <th>humidity</th>\n",
              "      <td>731.0</td>\n",
              "      <td>0.627894</td>\n",
              "      <td>0.142429</td>\n",
              "      <td>0.000000</td>\n",
              "      <td>0.520000</td>\n",
              "      <td>0.626667</td>\n",
              "      <td>0.730209</td>\n",
              "      <td>0.972500</td>\n",
              "    </tr>\n",
              "    <tr>\n",
              "      <th>windspeed</th>\n",
              "      <td>731.0</td>\n",
              "      <td>7.930295</td>\n",
              "      <td>3.226380</td>\n",
              "      <td>0.932208</td>\n",
              "      <td>5.618219</td>\n",
              "      <td>7.534325</td>\n",
              "      <td>9.709153</td>\n",
              "      <td>21.126627</td>\n",
              "    </tr>\n",
              "    <tr>\n",
              "      <th>rentals</th>\n",
              "      <td>731.0</td>\n",
              "      <td>4504.348837</td>\n",
              "      <td>1937.211452</td>\n",
              "      <td>22.000000</td>\n",
              "      <td>3152.000000</td>\n",
              "      <td>4548.000000</td>\n",
              "      <td>5956.000000</td>\n",
              "      <td>8714.000000</td>\n",
              "    </tr>\n",
              "  </tbody>\n",
              "</table>\n",
              "</div>"
            ],
            "text/plain": [
              "             count         mean          std        min          25%  \\\n",
              "season       731.0     1.496580     1.110807   0.000000     1.000000   \n",
              "holiday      731.0     0.028728     0.167155   0.000000     0.000000   \n",
              "weekday      731.0     2.997264     2.004787   0.000000     1.000000   \n",
              "weather      731.0     0.395349     0.544894   0.000000     0.000000   \n",
              "temperature  731.0    59.509553    15.486114  22.602432    46.117264   \n",
              "realfeel     731.0    59.553254    19.359788  12.593468    43.335689   \n",
              "humidity     731.0     0.627894     0.142429   0.000000     0.520000   \n",
              "windspeed    731.0     7.930295     3.226380   0.932208     5.618219   \n",
              "rentals      731.0  4504.348837  1937.211452  22.000000  3152.000000   \n",
              "\n",
              "                     50%          75%          max  \n",
              "season          2.000000     2.000000     3.000000  \n",
              "holiday         0.000000     0.000000     1.000000  \n",
              "weekday         3.000000     5.000000     6.000000  \n",
              "weather         0.000000     1.000000     2.000000  \n",
              "temperature    59.758972    73.048236    90.497028  \n",
              "realfeel       61.023880    75.501918   103.098445  \n",
              "humidity        0.626667     0.730209     0.972500  \n",
              "windspeed       7.534325     9.709153    21.126627  \n",
              "rentals      4548.000000  5956.000000  8714.000000  "
            ]
          },
          "execution_count": 133,
          "metadata": {},
          "output_type": "execute_result"
        }
      ],
      "source": [
        "df.describe().T"
      ]
    },
    {
      "cell_type": "markdown",
      "id": "88b0f5e0",
      "metadata": {
        "id": "88b0f5e0"
      },
      "source": [
        "### Correlation"
      ]
    },
    {
      "cell_type": "code",
      "execution_count": null,
      "id": "13ee60a7",
      "metadata": {
        "id": "13ee60a7",
        "outputId": "dab79ba5-cc7d-401a-ff34-32cfed83da1a"
      },
      "outputs": [
        {
          "data": {
            "text/plain": [
              "0.6274940090334921"
            ]
          },
          "execution_count": 134,
          "metadata": {},
          "output_type": "execute_result"
        }
      ],
      "source": [
        "df['rentals'].corr(df['temperature'])"
      ]
    },
    {
      "cell_type": "code",
      "execution_count": null,
      "id": "a9f9a420",
      "metadata": {
        "id": "a9f9a420",
        "outputId": "2e0a1bc0-d501-492b-8800-181b90af2b6d"
      },
      "outputs": [
        {
          "name": "stderr",
          "output_type": "stream",
          "text": [
            "C:\\Users\\Manasvi JIndal\\AppData\\Local\\Temp\\ipykernel_20880\\1372148992.py:1: FutureWarning: The default value of numeric_only in DataFrame.corr is deprecated. In a future version, it will default to False. Select only valid columns or specify the value of numeric_only to silence this warning.\n",
            "  df.corr() # Pearson Correlation Coefficients\n"
          ]
        },
        {
          "data": {
            "text/html": [
              "<div>\n",
              "<style scoped>\n",
              "    .dataframe tbody tr th:only-of-type {\n",
              "        vertical-align: middle;\n",
              "    }\n",
              "\n",
              "    .dataframe tbody tr th {\n",
              "        vertical-align: top;\n",
              "    }\n",
              "\n",
              "    .dataframe thead th {\n",
              "        text-align: right;\n",
              "    }\n",
              "</style>\n",
              "<table border=\"1\" class=\"dataframe\">\n",
              "  <thead>\n",
              "    <tr style=\"text-align: right;\">\n",
              "      <th></th>\n",
              "      <th>season</th>\n",
              "      <th>holiday</th>\n",
              "      <th>weekday</th>\n",
              "      <th>weather</th>\n",
              "      <th>temperature</th>\n",
              "      <th>realfeel</th>\n",
              "      <th>humidity</th>\n",
              "      <th>windspeed</th>\n",
              "      <th>rentals</th>\n",
              "    </tr>\n",
              "  </thead>\n",
              "  <tbody>\n",
              "    <tr>\n",
              "      <th>season</th>\n",
              "      <td>1.000000</td>\n",
              "      <td>-0.010537</td>\n",
              "      <td>-0.003080</td>\n",
              "      <td>0.019211</td>\n",
              "      <td>0.334315</td>\n",
              "      <td>0.342876</td>\n",
              "      <td>0.205445</td>\n",
              "      <td>-0.229046</td>\n",
              "      <td>0.406100</td>\n",
              "    </tr>\n",
              "    <tr>\n",
              "      <th>holiday</th>\n",
              "      <td>-0.010537</td>\n",
              "      <td>1.000000</td>\n",
              "      <td>-0.101960</td>\n",
              "      <td>-0.034627</td>\n",
              "      <td>-0.028556</td>\n",
              "      <td>-0.032507</td>\n",
              "      <td>-0.015937</td>\n",
              "      <td>0.006292</td>\n",
              "      <td>-0.068348</td>\n",
              "    </tr>\n",
              "    <tr>\n",
              "      <th>weekday</th>\n",
              "      <td>-0.003080</td>\n",
              "      <td>-0.101960</td>\n",
              "      <td>1.000000</td>\n",
              "      <td>0.031087</td>\n",
              "      <td>-0.000170</td>\n",
              "      <td>-0.007537</td>\n",
              "      <td>-0.052232</td>\n",
              "      <td>0.014282</td>\n",
              "      <td>0.067443</td>\n",
              "    </tr>\n",
              "    <tr>\n",
              "      <th>weather</th>\n",
              "      <td>0.019211</td>\n",
              "      <td>-0.034627</td>\n",
              "      <td>0.031087</td>\n",
              "      <td>1.000000</td>\n",
              "      <td>-0.120602</td>\n",
              "      <td>-0.121583</td>\n",
              "      <td>0.591045</td>\n",
              "      <td>0.039511</td>\n",
              "      <td>-0.297391</td>\n",
              "    </tr>\n",
              "    <tr>\n",
              "      <th>temperature</th>\n",
              "      <td>0.334315</td>\n",
              "      <td>-0.028556</td>\n",
              "      <td>-0.000170</td>\n",
              "      <td>-0.120602</td>\n",
              "      <td>1.000000</td>\n",
              "      <td>0.991702</td>\n",
              "      <td>0.126963</td>\n",
              "      <td>-0.157944</td>\n",
              "      <td>0.627494</td>\n",
              "    </tr>\n",
              "    <tr>\n",
              "      <th>realfeel</th>\n",
              "      <td>0.342876</td>\n",
              "      <td>-0.032507</td>\n",
              "      <td>-0.007537</td>\n",
              "      <td>-0.121583</td>\n",
              "      <td>0.991702</td>\n",
              "      <td>1.000000</td>\n",
              "      <td>0.139988</td>\n",
              "      <td>-0.183643</td>\n",
              "      <td>0.631066</td>\n",
              "    </tr>\n",
              "    <tr>\n",
              "      <th>humidity</th>\n",
              "      <td>0.205445</td>\n",
              "      <td>-0.015937</td>\n",
              "      <td>-0.052232</td>\n",
              "      <td>0.591045</td>\n",
              "      <td>0.126963</td>\n",
              "      <td>0.139988</td>\n",
              "      <td>1.000000</td>\n",
              "      <td>-0.248489</td>\n",
              "      <td>-0.100659</td>\n",
              "    </tr>\n",
              "    <tr>\n",
              "      <th>windspeed</th>\n",
              "      <td>-0.229046</td>\n",
              "      <td>0.006292</td>\n",
              "      <td>0.014282</td>\n",
              "      <td>0.039511</td>\n",
              "      <td>-0.157944</td>\n",
              "      <td>-0.183643</td>\n",
              "      <td>-0.248489</td>\n",
              "      <td>1.000000</td>\n",
              "      <td>-0.234545</td>\n",
              "    </tr>\n",
              "    <tr>\n",
              "      <th>rentals</th>\n",
              "      <td>0.406100</td>\n",
              "      <td>-0.068348</td>\n",
              "      <td>0.067443</td>\n",
              "      <td>-0.297391</td>\n",
              "      <td>0.627494</td>\n",
              "      <td>0.631066</td>\n",
              "      <td>-0.100659</td>\n",
              "      <td>-0.234545</td>\n",
              "      <td>1.000000</td>\n",
              "    </tr>\n",
              "  </tbody>\n",
              "</table>\n",
              "</div>"
            ],
            "text/plain": [
              "               season   holiday   weekday   weather  temperature  realfeel  \\\n",
              "season       1.000000 -0.010537 -0.003080  0.019211     0.334315  0.342876   \n",
              "holiday     -0.010537  1.000000 -0.101960 -0.034627    -0.028556 -0.032507   \n",
              "weekday     -0.003080 -0.101960  1.000000  0.031087    -0.000170 -0.007537   \n",
              "weather      0.019211 -0.034627  0.031087  1.000000    -0.120602 -0.121583   \n",
              "temperature  0.334315 -0.028556 -0.000170 -0.120602     1.000000  0.991702   \n",
              "realfeel     0.342876 -0.032507 -0.007537 -0.121583     0.991702  1.000000   \n",
              "humidity     0.205445 -0.015937 -0.052232  0.591045     0.126963  0.139988   \n",
              "windspeed   -0.229046  0.006292  0.014282  0.039511    -0.157944 -0.183643   \n",
              "rentals      0.406100 -0.068348  0.067443 -0.297391     0.627494  0.631066   \n",
              "\n",
              "             humidity  windspeed   rentals  \n",
              "season       0.205445  -0.229046  0.406100  \n",
              "holiday     -0.015937   0.006292 -0.068348  \n",
              "weekday     -0.052232   0.014282  0.067443  \n",
              "weather      0.591045   0.039511 -0.297391  \n",
              "temperature  0.126963  -0.157944  0.627494  \n",
              "realfeel     0.139988  -0.183643  0.631066  \n",
              "humidity     1.000000  -0.248489 -0.100659  \n",
              "windspeed   -0.248489   1.000000 -0.234545  \n",
              "rentals     -0.100659  -0.234545  1.000000  "
            ]
          },
          "execution_count": 135,
          "metadata": {},
          "output_type": "execute_result"
        }
      ],
      "source": [
        "df.corr() # Pearson Correlation Coefficients"
      ]
    },
    {
      "cell_type": "code",
      "execution_count": null,
      "id": "3cd76713",
      "metadata": {
        "id": "3cd76713",
        "outputId": "83bc7796-a96d-47b3-a81c-437ca3ce2ccc"
      },
      "outputs": [
        {
          "name": "stderr",
          "output_type": "stream",
          "text": [
            "C:\\Users\\Manasvi JIndal\\AppData\\Local\\Temp\\ipykernel_20880\\1983456025.py:1: FutureWarning: The default value of numeric_only in DataFrame.corr is deprecated. In a future version, it will default to False. Select only valid columns or specify the value of numeric_only to silence this warning.\n",
            "  mask = np.zeros_like(df.corr())\n"
          ]
        },
        {
          "data": {
            "text/plain": [
              "array([[1., 1., 1., 1., 1., 1., 1., 1., 1.],\n",
              "       [0., 1., 1., 1., 1., 1., 1., 1., 1.],\n",
              "       [0., 0., 1., 1., 1., 1., 1., 1., 1.],\n",
              "       [0., 0., 0., 1., 1., 1., 1., 1., 1.],\n",
              "       [0., 0., 0., 0., 1., 1., 1., 1., 1.],\n",
              "       [0., 0., 0., 0., 0., 1., 1., 1., 1.],\n",
              "       [0., 0., 0., 0., 0., 0., 1., 1., 1.],\n",
              "       [0., 0., 0., 0., 0., 0., 0., 1., 1.],\n",
              "       [0., 0., 0., 0., 0., 0., 0., 0., 1.]])"
            ]
          },
          "execution_count": 136,
          "metadata": {},
          "output_type": "execute_result"
        }
      ],
      "source": [
        "mask = np.zeros_like(df.corr())\n",
        "triangle_indices = np.triu_indices_from(mask)\n",
        "mask[triangle_indices] = True\n",
        "mask"
      ]
    },
    {
      "cell_type": "code",
      "execution_count": null,
      "id": "a4073bf2",
      "metadata": {
        "id": "a4073bf2",
        "outputId": "c7970c29-4802-491b-a818-7cd1407ad158"
      },
      "outputs": [
        {
          "name": "stderr",
          "output_type": "stream",
          "text": [
            "C:\\Users\\Manasvi JIndal\\AppData\\Local\\Temp\\ipykernel_20880\\2305802921.py:2: FutureWarning: The default value of numeric_only in DataFrame.corr is deprecated. In a future version, it will default to False. Select only valid columns or specify the value of numeric_only to silence this warning.\n",
            "  sns.heatmap(df.corr(), mask=mask, annot=True, annot_kws={\"size\": 14})\n"
          ]
        },
        {
          "data": {
            "image/png": "[encoded data removed]",
            "text/plain": [
              "<Figure size 1200x600 with 2 Axes>"
            ]
          },
          "metadata": {},
          "output_type": "display_data"
        }
      ],
      "source": [
        "plt.figure(figsize=(12,6))\n",
        "sns.heatmap(df.corr(), mask=mask, annot=True, annot_kws={\"size\": 14})\n",
        "sns.set_style('white')\n",
        "plt.xticks(fontsize=14)\n",
        "plt.yticks(fontsize=14)\n",
        "plt.show()"
      ]
    },
    {
      "cell_type": "markdown",
      "id": "418e29c0",
      "metadata": {
        "id": "418e29c0"
      },
      "source": [
        "### Feature Selection"
      ]
    },
    {
      "cell_type": "code",
      "execution_count": null,
      "id": "892e7c36",
      "metadata": {
        "id": "892e7c36"
      },
      "outputs": [],
      "source": [
        "rentals = df['rentals']\n",
        "features = df.drop('rentals', axis=1)"
      ]
    },
    {
      "cell_type": "code",
      "execution_count": null,
      "id": "bbaacc9f",
      "metadata": {
        "id": "bbaacc9f",
        "outputId": "52e6ff5e-e78a-4209-9fe3-56f9149c8959"
      },
      "outputs": [
        {
          "data": {
            "text/html": [
              "<div>\n",
              "<style scoped>\n",
              "    .dataframe tbody tr th:only-of-type {\n",
              "        vertical-align: middle;\n",
              "    }\n",
              "\n",
              "    .dataframe tbody tr th {\n",
              "        vertical-align: top;\n",
              "    }\n",
              "\n",
              "    .dataframe thead th {\n",
              "        text-align: right;\n",
              "    }\n",
              "</style>\n",
              "<table border=\"1\" class=\"dataframe\">\n",
              "  <thead>\n",
              "    <tr style=\"text-align: right;\">\n",
              "      <th></th>\n",
              "      <th>date</th>\n",
              "      <th>season</th>\n",
              "      <th>holiday</th>\n",
              "      <th>weekday</th>\n",
              "      <th>weather</th>\n",
              "      <th>temperature</th>\n",
              "      <th>realfeel</th>\n",
              "      <th>humidity</th>\n",
              "      <th>windspeed</th>\n",
              "      <th>weekday_name</th>\n",
              "    </tr>\n",
              "  </thead>\n",
              "  <tbody>\n",
              "    <tr>\n",
              "      <th>0</th>\n",
              "      <td>2011-01-01</td>\n",
              "      <td>0</td>\n",
              "      <td>0</td>\n",
              "      <td>6</td>\n",
              "      <td>1</td>\n",
              "      <td>46.716528</td>\n",
              "      <td>46.398650</td>\n",
              "      <td>0.805833</td>\n",
              "      <td>6.679665</td>\n",
              "      <td>Sunday</td>\n",
              "    </tr>\n",
              "    <tr>\n",
              "      <th>1</th>\n",
              "      <td>2011-01-02</td>\n",
              "      <td>0</td>\n",
              "      <td>0</td>\n",
              "      <td>0</td>\n",
              "      <td>1</td>\n",
              "      <td>48.350239</td>\n",
              "      <td>45.224193</td>\n",
              "      <td>0.696087</td>\n",
              "      <td>10.347140</td>\n",
              "      <td>Monday</td>\n",
              "    </tr>\n",
              "    <tr>\n",
              "      <th>2</th>\n",
              "      <td>2011-01-03</td>\n",
              "      <td>0</td>\n",
              "      <td>0</td>\n",
              "      <td>1</td>\n",
              "      <td>0</td>\n",
              "      <td>34.212394</td>\n",
              "      <td>25.701314</td>\n",
              "      <td>0.437273</td>\n",
              "      <td>10.337565</td>\n",
              "      <td>Tuesday</td>\n",
              "    </tr>\n",
              "    <tr>\n",
              "      <th>3</th>\n",
              "      <td>2011-01-04</td>\n",
              "      <td>0</td>\n",
              "      <td>0</td>\n",
              "      <td>2</td>\n",
              "      <td>0</td>\n",
              "      <td>34.520000</td>\n",
              "      <td>28.400094</td>\n",
              "      <td>0.590435</td>\n",
              "      <td>6.673420</td>\n",
              "      <td>Wednesday</td>\n",
              "    </tr>\n",
              "    <tr>\n",
              "      <th>4</th>\n",
              "      <td>2011-01-05</td>\n",
              "      <td>0</td>\n",
              "      <td>0</td>\n",
              "      <td>3</td>\n",
              "      <td>0</td>\n",
              "      <td>36.800562</td>\n",
              "      <td>30.437276</td>\n",
              "      <td>0.436957</td>\n",
              "      <td>7.780994</td>\n",
              "      <td>Thursday</td>\n",
              "    </tr>\n",
              "    <tr>\n",
              "      <th>...</th>\n",
              "      <td>...</td>\n",
              "      <td>...</td>\n",
              "      <td>...</td>\n",
              "      <td>...</td>\n",
              "      <td>...</td>\n",
              "      <td>...</td>\n",
              "      <td>...</td>\n",
              "      <td>...</td>\n",
              "      <td>...</td>\n",
              "      <td>...</td>\n",
              "    </tr>\n",
              "    <tr>\n",
              "      <th>726</th>\n",
              "      <td>2012-12-27</td>\n",
              "      <td>0</td>\n",
              "      <td>0</td>\n",
              "      <td>4</td>\n",
              "      <td>1</td>\n",
              "      <td>39.102528</td>\n",
              "      <td>30.125070</td>\n",
              "      <td>0.652917</td>\n",
              "      <td>14.576687</td>\n",
              "      <td>Friday</td>\n",
              "    </tr>\n",
              "    <tr>\n",
              "      <th>727</th>\n",
              "      <td>2012-12-28</td>\n",
              "      <td>0</td>\n",
              "      <td>0</td>\n",
              "      <td>5</td>\n",
              "      <td>1</td>\n",
              "      <td>39.031972</td>\n",
              "      <td>33.499465</td>\n",
              "      <td>0.590000</td>\n",
              "      <td>6.472546</td>\n",
              "      <td>Saturday</td>\n",
              "    </tr>\n",
              "    <tr>\n",
              "      <th>728</th>\n",
              "      <td>2012-12-29</td>\n",
              "      <td>0</td>\n",
              "      <td>0</td>\n",
              "      <td>6</td>\n",
              "      <td>1</td>\n",
              "      <td>39.031972</td>\n",
              "      <td>31.997120</td>\n",
              "      <td>0.752917</td>\n",
              "      <td>5.178295</td>\n",
              "      <td>Sunday</td>\n",
              "    </tr>\n",
              "    <tr>\n",
              "      <th>729</th>\n",
              "      <td>2012-12-30</td>\n",
              "      <td>0</td>\n",
              "      <td>0</td>\n",
              "      <td>0</td>\n",
              "      <td>0</td>\n",
              "      <td>39.243472</td>\n",
              "      <td>30.725960</td>\n",
              "      <td>0.483333</td>\n",
              "      <td>14.602540</td>\n",
              "      <td>Monday</td>\n",
              "    </tr>\n",
              "    <tr>\n",
              "      <th>730</th>\n",
              "      <td>2012-12-31</td>\n",
              "      <td>0</td>\n",
              "      <td>0</td>\n",
              "      <td>1</td>\n",
              "      <td>1</td>\n",
              "      <td>35.859472</td>\n",
              "      <td>29.750256</td>\n",
              "      <td>0.577500</td>\n",
              "      <td>6.446527</td>\n",
              "      <td>Tuesday</td>\n",
              "    </tr>\n",
              "  </tbody>\n",
              "</table>\n",
              "<p>731 rows × 10 columns</p>\n",
              "</div>"
            ],
            "text/plain": [
              "           date  season  holiday  weekday  weather  temperature   realfeel  \\\n",
              "0    2011-01-01       0        0        6        1    46.716528  46.398650   \n",
              "1    2011-01-02       0        0        0        1    48.350239  45.224193   \n",
              "2    2011-01-03       0        0        1        0    34.212394  25.701314   \n",
              "3    2011-01-04       0        0        2        0    34.520000  28.400094   \n",
              "4    2011-01-05       0        0        3        0    36.800562  30.437276   \n",
              "..          ...     ...      ...      ...      ...          ...        ...   \n",
              "726  2012-12-27       0        0        4        1    39.102528  30.125070   \n",
              "727  2012-12-28       0        0        5        1    39.031972  33.499465   \n",
              "728  2012-12-29       0        0        6        1    39.031972  31.997120   \n",
              "729  2012-12-30       0        0        0        0    39.243472  30.725960   \n",
              "730  2012-12-31       0        0        1        1    35.859472  29.750256   \n",
              "\n",
              "     humidity  windspeed weekday_name  \n",
              "0    0.805833   6.679665       Sunday  \n",
              "1    0.696087  10.347140       Monday  \n",
              "2    0.437273  10.337565      Tuesday  \n",
              "3    0.590435   6.673420    Wednesday  \n",
              "4    0.436957   7.780994     Thursday  \n",
              "..        ...        ...          ...  \n",
              "726  0.652917  14.576687       Friday  \n",
              "727  0.590000   6.472546     Saturday  \n",
              "728  0.752917   5.178295       Sunday  \n",
              "729  0.483333  14.602540       Monday  \n",
              "730  0.577500   6.446527      Tuesday  \n",
              "\n",
              "[731 rows x 10 columns]"
            ]
          },
          "execution_count": 143,
          "metadata": {},
          "output_type": "execute_result"
        }
      ],
      "source": [
        "features"
      ]
    },
    {
      "cell_type": "code",
      "execution_count": null,
      "id": "5215c6cd",
      "metadata": {
        "id": "5215c6cd",
        "outputId": "952c56fe-6454-4c26-c681-9001bf7b04b4"
      },
      "outputs": [
        {
          "data": {
            "text/plain": [
              "0       985\n",
              "1       801\n",
              "2      1349\n",
              "3      1562\n",
              "4      1600\n",
              "       ... \n",
              "726    2114\n",
              "727    3095\n",
              "728    1341\n",
              "729    1796\n",
              "730    2729\n",
              "Name: rentals, Length: 731, dtype: int64"
            ]
          },
          "execution_count": 144,
          "metadata": {},
          "output_type": "execute_result"
        }
      ],
      "source": [
        "rentals"
      ]
    },
    {
      "cell_type": "code",
      "execution_count": null,
      "id": "d3222753",
      "metadata": {
        "id": "d3222753"
      },
      "outputs": [],
      "source": [
        "numeric_columns = df.select_dtypes(include=['float64', 'int64']).columns\n",
        "correlation_matrix = df[numeric_columns].corr()"
      ]
    },
    {
      "cell_type": "code",
      "execution_count": null,
      "id": "76021d87",
      "metadata": {
        "id": "76021d87",
        "outputId": "f6fbdfd7-599f-4f19-b965-038649ee0809"
      },
      "outputs": [
        {
          "name": "stdout",
          "output_type": "stream",
          "text": [
            "season         0.406100\n",
            "holiday       -0.068348\n",
            "weekday        0.067443\n",
            "weather       -0.297391\n",
            "temperature    0.627494\n",
            "realfeel       0.631066\n",
            "humidity      -0.100659\n",
            "windspeed     -0.234545\n",
            "rentals        1.000000\n",
            "Name: rentals, dtype: float64\n"
          ]
        }
      ],
      "source": [
        "print(correlation_matrix['rentals'])"
      ]
    },
    {
      "cell_type": "code",
      "execution_count": null,
      "id": "e1c2af53",
      "metadata": {
        "id": "e1c2af53"
      },
      "outputs": [],
      "source": [
        "X_with_intercept = sm.add_constant(X)"
      ]
    },
    {
      "cell_type": "code",
      "execution_count": null,
      "id": "b1cf370c",
      "metadata": {
        "id": "b1cf370c"
      },
      "outputs": [],
      "source": [
        "ols_model = sm.OLS(y, X_with_intercept).fit()"
      ]
    },
    {
      "cell_type": "code",
      "execution_count": null,
      "id": "0d072111",
      "metadata": {
        "id": "0d072111",
        "outputId": "07877a07-64ef-4ebc-fe0a-37c397f98b94"
      },
      "outputs": [
        {
          "name": "stdout",
          "output_type": "stream",
          "text": [
            "                            OLS Regression Results                            \n",
            "==============================================================================\n",
            "Dep. Variable:                rentals   R-squared:                       0.526\n",
            "Model:                            OLS   Adj. R-squared:                  0.521\n",
            "Method:                 Least Squares   F-statistic:                     100.3\n",
            "Date:                Tue, 06 Feb 2024   Prob (F-statistic):          7.56e-112\n",
            "Time:                        14:06:40   Log-Likelihood:                -6296.5\n",
            "No. Observations:                 731   AIC:                         1.261e+04\n",
            "Df Residuals:                     722   BIC:                         1.265e+04\n",
            "Df Model:                           8                                         \n",
            "Covariance Type:            nonrobust                                         \n",
            "===============================================================================\n",
            "                  coef    std err          t      P>|t|      [0.025      0.975]\n",
            "-------------------------------------------------------------------------------\n",
            "const        2512.3716    450.995      5.571      0.000    1626.953    3397.790\n",
            "season        405.2595     48.787      8.307      0.000     309.478     501.041\n",
            "holiday      -574.5610    298.923     -1.922      0.055   -1161.423      12.301\n",
            "weekday        60.5378     25.025      2.419      0.016      11.407     109.669\n",
            "weather      -481.9920    119.938     -4.019      0.000    -717.462    -246.522\n",
            "temperature    28.3981     25.490      1.114      0.266     -21.644      78.441\n",
            "realfeel       30.9386     20.551      1.505      0.133      -9.408      71.286\n",
            "humidity    -2301.1941    476.259     -4.832      0.000   -3236.212   -1366.176\n",
            "windspeed     -75.6250     16.818     -4.497      0.000    -108.644     -42.606\n",
            "==============================================================================\n",
            "Omnibus:                       15.761   Durbin-Watson:                   0.396\n",
            "Prob(Omnibus):                  0.000   Jarque-Bera (JB):                8.848\n",
            "Skew:                           0.048   Prob(JB):                       0.0120\n",
            "Kurtosis:                       2.470   Cond. No.                     1.00e+03\n",
            "==============================================================================\n",
            "\n",
            "Notes:\n",
            "[1] Standard Errors assume that the covariance matrix of the errors is correctly specified.\n",
            "[2] The condition number is large,  1e+03. This might indicate that there are\n",
            "strong multicollinearity or other numerical problems.\n"
          ]
        },
        {
          "data": {
            "text/plain": [
              "season          True\n",
              "holiday        False\n",
              "weekday         True\n",
              "weather         True\n",
              "temperature    False\n",
              "realfeel       False\n",
              "humidity        True\n",
              "windspeed       True\n",
              "dtype: bool"
            ]
          },
          "execution_count": 149,
          "metadata": {},
          "output_type": "execute_result"
        }
      ],
      "source": [
        "print(ols_model.summary())\n",
        "ols_model.pvalues.drop('const') < 0.05"
      ]
    },
    {
      "cell_type": "code",
      "execution_count": null,
      "id": "b1cb8727",
      "metadata": {
        "id": "b1cb8727"
      },
      "outputs": [],
      "source": [
        "significant_features = [feature for feature, p_value in zip(X.columns, ols_model.pvalues[1:]) if p_value <= 0.05]\n",
        "target = 'rentals'\n",
        "X = df[significant_features]\n",
        "y = df[target]"
      ]
    },
    {
      "cell_type": "markdown",
      "id": "8952eceb",
      "metadata": {
        "id": "8952eceb"
      },
      "source": [
        "### Train test split"
      ]
    },
    {
      "cell_type": "code",
      "execution_count": null,
      "id": "4f08871e",
      "metadata": {
        "id": "4f08871e"
      },
      "outputs": [],
      "source": [
        "X_train, X_test, y_train, y_test = train_test_split(X, y,test_size=0.2, random_state=10)"
      ]
    },
    {
      "cell_type": "code",
      "execution_count": null,
      "id": "817b4b49",
      "metadata": {
        "id": "817b4b49",
        "outputId": "9b64fc53-36d3-4e70-91db-052b49fdb666"
      },
      "outputs": [
        {
          "data": {
            "text/plain": [
              "0.79890560875513"
            ]
          },
          "execution_count": 152,
          "metadata": {},
          "output_type": "execute_result"
        }
      ],
      "source": [
        "# % of training set\n",
        "len(X_train)/len(features)"
      ]
    },
    {
      "cell_type": "code",
      "execution_count": null,
      "id": "b8721169",
      "metadata": {
        "id": "b8721169",
        "outputId": "4a0fc90b-3bab-4ea7-d0ea-a74933c10798"
      },
      "outputs": [
        {
          "data": {
            "text/plain": [
              "0.20109439124487005"
            ]
          },
          "execution_count": 153,
          "metadata": {},
          "output_type": "execute_result"
        }
      ],
      "source": [
        "# % of test data set\n",
        "X_test.shape[0]/features.shape[0]"
      ]
    },
    {
      "cell_type": "markdown",
      "id": "7fd4c2f0",
      "metadata": {
        "id": "7fd4c2f0"
      },
      "source": [
        "### Model Training"
      ]
    },
    {
      "cell_type": "code",
      "execution_count": null,
      "id": "27dac7d3",
      "metadata": {
        "id": "27dac7d3",
        "outputId": "6a88ad81-ea85-49f1-de77-9a3835da8347"
      },
      "outputs": [
        {
          "data": {
            "text/html": [
              "<style>#sk-container-id-4 {color: black;background-color: white;}#sk-container-id-4 pre{padding: 0;}#sk-container-id-4 div.sk-toggleable {background-color: white;}#sk-container-id-4 label.sk-toggleable__label {cursor: pointer;display: block;width: 100%;margin-bottom: 0;padding: 0.3em;box-sizing: border-box;text-align: center;}#sk-container-id-4 label.sk-toggleable__label-arrow:before {content: \"▸\";float: left;margin-right: 0.25em;color: #696969;}#sk-container-id-4 label.sk-toggleable__label-arrow:hover:before {color: black;}#sk-container-id-4 div.sk-estimator:hover label.sk-toggleable__label-arrow:before {color: black;}#sk-container-id-4 div.sk-toggleable__content {max-height: 0;max-width: 0;overflow: hidden;text-align: left;background-color: #f0f8ff;}#sk-container-id-4 div.sk-toggleable__content pre {margin: 0.2em;color: black;border-radius: 0.25em;background-color: #f0f8ff;}#sk-container-id-4 input.sk-toggleable__control:checked~div.sk-toggleable__content {max-height: 200px;max-width: 100%;overflow: auto;}#sk-container-id-4 input.sk-toggleable__control:checked~label.sk-toggleable__label-arrow:before {content: \"▾\";}#sk-container-id-4 div.sk-estimator input.sk-toggleable__control:checked~label.sk-toggleable__label {background-color: #d4ebff;}#sk-container-id-4 div.sk-label input.sk-toggleable__control:checked~label.sk-toggleable__label {background-color: #d4ebff;}#sk-container-id-4 input.sk-hidden--visually {border: 0;clip: rect(1px 1px 1px 1px);clip: rect(1px, 1px, 1px, 1px);height: 1px;margin: -1px;overflow: hidden;padding: 0;position: absolute;width: 1px;}#sk-container-id-4 div.sk-estimator {font-family: monospace;background-color: #f0f8ff;border: 1px dotted black;border-radius: 0.25em;box-sizing: border-box;margin-bottom: 0.5em;}#sk-container-id-4 div.sk-estimator:hover {background-color: #d4ebff;}#sk-container-id-4 div.sk-parallel-item::after {content: \"\";width: 100%;border-bottom: 1px solid gray;flex-grow: 1;}#sk-container-id-4 div.sk-label:hover label.sk-toggleable__label {background-color: #d4ebff;}#sk-container-id-4 div.sk-serial::before {content: \"\";position: absolute;border-left: 1px solid gray;box-sizing: border-box;top: 0;bottom: 0;left: 50%;z-index: 0;}#sk-container-id-4 div.sk-serial {display: flex;flex-direction: column;align-items: center;background-color: white;padding-right: 0.2em;padding-left: 0.2em;position: relative;}#sk-container-id-4 div.sk-item {position: relative;z-index: 1;}#sk-container-id-4 div.sk-parallel {display: flex;align-items: stretch;justify-content: center;background-color: white;position: relative;}#sk-container-id-4 div.sk-item::before, #sk-container-id-4 div.sk-parallel-item::before {content: \"\";position: absolute;border-left: 1px solid gray;box-sizing: border-box;top: 0;bottom: 0;left: 50%;z-index: -1;}#sk-container-id-4 div.sk-parallel-item {display: flex;flex-direction: column;z-index: 1;position: relative;background-color: white;}#sk-container-id-4 div.sk-parallel-item:first-child::after {align-self: flex-end;width: 50%;}#sk-container-id-4 div.sk-parallel-item:last-child::after {align-self: flex-start;width: 50%;}#sk-container-id-4 div.sk-parallel-item:only-child::after {width: 0;}#sk-container-id-4 div.sk-dashed-wrapped {border: 1px dashed gray;margin: 0 0.4em 0.5em 0.4em;box-sizing: border-box;padding-bottom: 0.4em;background-color: white;}#sk-container-id-4 div.sk-label label {font-family: monospace;font-weight: bold;display: inline-block;line-height: 1.2em;}#sk-container-id-4 div.sk-label-container {text-align: center;}#sk-container-id-4 div.sk-container {/* jupyter's `normalize.less` sets `[hidden] { display: none; }` but bootstrap.min.css set `[hidden] { display: none !important; }` so we also need the `!important` here to be able to override the default hidden behavior on the sphinx rendered scikit-learn.org. See: https://github.com/scikit-learn/scikit-learn/issues/21755 */display: inline-block !important;position: relative;}#sk-container-id-4 div.sk-text-repr-fallback {display: none;}</style><div id=\"sk-container-id-4\" class=\"sk-top-container\"><div class=\"sk-text-repr-fallback\"><pre>LinearRegression()</pre><b>In a Jupyter environment, please rerun this cell to show the HTML representation or trust the notebook. <br />On GitHub, the HTML representation is unable to render, please try loading this page with nbviewer.org.</b></div><div class=\"sk-container\" hidden><div class=\"sk-item\"><div class=\"sk-estimator sk-toggleable\"><input class=\"sk-toggleable__control sk-hidden--visually\" id=\"sk-estimator-id-4\" type=\"checkbox\" checked><label for=\"sk-estimator-id-4\" class=\"sk-toggleable__label sk-toggleable__label-arrow\">LinearRegression</label><div class=\"sk-toggleable__content\"><pre>LinearRegression()</pre></div></div></div></div></div>"
            ],
            "text/plain": [
              "LinearRegression()"
            ]
          },
          "execution_count": 154,
          "metadata": {},
          "output_type": "execute_result"
        }
      ],
      "source": [
        "model = LinearRegression()\n",
        "model.fit(X_train, y_train)"
      ]
    },
    {
      "cell_type": "code",
      "execution_count": null,
      "id": "e34a5088",
      "metadata": {
        "id": "e34a5088",
        "outputId": "c5360f6f-5ac4-4093-c5a5-0e50ae7c9b57"
      },
      "outputs": [
        {
          "name": "stdout",
          "output_type": "stream",
          "text": [
            "Training data r-squared: 0.28835190814283573\n",
            "Test data r-squared: 0.255932513890182\n",
            "Intercept 4752.369758457447\n"
          ]
        },
        {
          "data": {
            "text/html": [
              "<div>\n",
              "<style scoped>\n",
              "    .dataframe tbody tr th:only-of-type {\n",
              "        vertical-align: middle;\n",
              "    }\n",
              "\n",
              "    .dataframe tbody tr th {\n",
              "        vertical-align: top;\n",
              "    }\n",
              "\n",
              "    .dataframe thead th {\n",
              "        text-align: right;\n",
              "    }\n",
              "</style>\n",
              "<table border=\"1\" class=\"dataframe\">\n",
              "  <thead>\n",
              "    <tr style=\"text-align: right;\">\n",
              "      <th></th>\n",
              "      <th>coef</th>\n",
              "    </tr>\n",
              "  </thead>\n",
              "  <tbody>\n",
              "    <tr>\n",
              "      <th>season</th>\n",
              "      <td>674.684735</td>\n",
              "    </tr>\n",
              "    <tr>\n",
              "      <th>weekday</th>\n",
              "      <td>60.319952</td>\n",
              "    </tr>\n",
              "    <tr>\n",
              "      <th>weather</th>\n",
              "      <td>-1039.551009</td>\n",
              "    </tr>\n",
              "    <tr>\n",
              "      <th>humidity</th>\n",
              "      <td>-439.493910</td>\n",
              "    </tr>\n",
              "    <tr>\n",
              "      <th>windspeed</th>\n",
              "      <td>-96.292220</td>\n",
              "    </tr>\n",
              "  </tbody>\n",
              "</table>\n",
              "</div>"
            ],
            "text/plain": [
              "                  coef\n",
              "season      674.684735\n",
              "weekday      60.319952\n",
              "weather   -1039.551009\n",
              "humidity   -439.493910\n",
              "windspeed   -96.292220"
            ]
          },
          "execution_count": 155,
          "metadata": {},
          "output_type": "execute_result"
        }
      ],
      "source": [
        "print('Training data r-squared:', model.score(X_train, y_train))\n",
        "print('Test data r-squared:', model.score(X_test, y_test))\n",
        "print('Intercept', model.intercept_)\n",
        "pd.DataFrame(data=model.coef_, index=X_train.columns, columns=['coef'])"
      ]
    },
    {
      "cell_type": "code",
      "execution_count": null,
      "id": "8b728352",
      "metadata": {
        "id": "8b728352",
        "outputId": "b2580a56-d667-402e-eba6-b63289f76805"
      },
      "outputs": [
        {
          "data": {
            "text/plain": [
              "4752.369758457447"
            ]
          },
          "execution_count": 156,
          "metadata": {},
          "output_type": "execute_result"
        }
      ],
      "source": [
        "model.intercept_"
      ]
    },
    {
      "cell_type": "markdown",
      "id": "14856ff2",
      "metadata": {
        "id": "14856ff2"
      },
      "source": [
        "### Model Evaluation"
      ]
    },
    {
      "cell_type": "code",
      "execution_count": null,
      "id": "e250dc0e",
      "metadata": {
        "id": "e250dc0e"
      },
      "outputs": [],
      "source": [
        "y_pred = model.predict(X_test)"
      ]
    },
    {
      "cell_type": "code",
      "execution_count": null,
      "id": "2a130963",
      "metadata": {
        "id": "2a130963"
      },
      "outputs": [],
      "source": [
        "mse = mean_squared_error(y_test, y_pred)\n",
        "rmse = mean_squared_error(y_test, y_pred, squared=False)\n",
        "r2 = r2_score(y_test, y_pred)"
      ]
    },
    {
      "cell_type": "code",
      "execution_count": null,
      "id": "fa7d4362",
      "metadata": {
        "id": "fa7d4362",
        "outputId": "a735dd5a-1a3d-438f-aa9b-ed69eaf6c8ce"
      },
      "outputs": [
        {
          "name": "stdout",
          "output_type": "stream",
          "text": [
            "Mean Squared Error: 2828341.1586433444\n",
            "Root Mean Squared Error: 1681.7672724379388\n",
            "R^2 Score: 0.255932513890182\n"
          ]
        }
      ],
      "source": [
        "print(f'Mean Squared Error: {mse}')\n",
        "print(f'Root Mean Squared Error: {rmse}')\n",
        "print(f'R^2 Score: {r2}')"
      ]
    },
    {
      "cell_type": "code",
      "execution_count": null,
      "id": "331f1faf",
      "metadata": {
        "id": "331f1faf",
        "outputId": "18246a71-06e0-4134-bef4-126da7ea91fd"
      },
      "outputs": [
        {
          "data": {
            "image/png": "[encoded data removed]",
            "text/plain": [
              "<Figure size 640x480 with 1 Axes>"
            ]
          },
          "metadata": {},
          "output_type": "display_data"
        }
      ],
      "source": [
        "metrics = {'Mean Squared Error': mse, 'Root Mean Squared Error': rmse, 'R^2 Score': r2}\n",
        "plt.bar(metrics.keys(), metrics.values())\n",
        "plt.yscale('log')\n",
        "plt.title('Model Performance Metrics')\n",
        "plt.show()"
      ]
    },
    {
      "cell_type": "code",
      "execution_count": null,
      "id": "6421dffe",
      "metadata": {
        "id": "6421dffe"
      },
      "outputs": [],
      "source": [
        "vif_data = pd.DataFrame()\n",
        "vif_data[\"feature\"] = X.columns\n",
        "vif_data[\"VIF\"] = [variance_inflation_factor(X.values, i) for i in range(X.shape[1])]"
      ]
    },
    {
      "cell_type": "code",
      "execution_count": null,
      "id": "88bc8e86",
      "metadata": {
        "id": "88bc8e86",
        "outputId": "bad457d8-30d5-4e83-9eae-cc5cd982fec1"
      },
      "outputs": [
        {
          "data": {
            "text/html": [
              "<div>\n",
              "<style scoped>\n",
              "    .dataframe tbody tr th:only-of-type {\n",
              "        vertical-align: middle;\n",
              "    }\n",
              "\n",
              "    .dataframe tbody tr th {\n",
              "        vertical-align: top;\n",
              "    }\n",
              "\n",
              "    .dataframe thead th {\n",
              "        text-align: right;\n",
              "    }\n",
              "</style>\n",
              "<table border=\"1\" class=\"dataframe\">\n",
              "  <thead>\n",
              "    <tr style=\"text-align: right;\">\n",
              "      <th></th>\n",
              "      <th>feature</th>\n",
              "      <th>VIF</th>\n",
              "    </tr>\n",
              "  </thead>\n",
              "  <tbody>\n",
              "    <tr>\n",
              "      <th>0</th>\n",
              "      <td>season</td>\n",
              "      <td>3.030378</td>\n",
              "    </tr>\n",
              "    <tr>\n",
              "      <th>1</th>\n",
              "      <td>weekday</td>\n",
              "      <td>3.010116</td>\n",
              "    </tr>\n",
              "    <tr>\n",
              "      <th>2</th>\n",
              "      <td>weather</td>\n",
              "      <td>1.948770</td>\n",
              "    </tr>\n",
              "    <tr>\n",
              "      <th>3</th>\n",
              "      <td>humidity</td>\n",
              "      <td>9.935641</td>\n",
              "    </tr>\n",
              "    <tr>\n",
              "      <th>4</th>\n",
              "      <td>windspeed</td>\n",
              "      <td>4.889471</td>\n",
              "    </tr>\n",
              "  </tbody>\n",
              "</table>\n",
              "</div>"
            ],
            "text/plain": [
              "     feature       VIF\n",
              "0     season  3.030378\n",
              "1    weekday  3.010116\n",
              "2    weather  1.948770\n",
              "3   humidity  9.935641\n",
              "4  windspeed  4.889471"
            ]
          },
          "execution_count": 162,
          "metadata": {},
          "output_type": "execute_result"
        }
      ],
      "source": [
        "vif_data"
      ]
    },
    {
      "cell_type": "code",
      "execution_count": null,
      "id": "9c8d215f",
      "metadata": {
        "id": "9c8d215f"
      },
      "outputs": [],
      "source": [
        "# Remove features with high VIF\n",
        "X_train_final = X_train_encoded.drop(['humidity'], axis=1)\n",
        "X_test_final = X_test_encoded.drop(['humidity'], axis=1)"
      ]
    },
    {
      "cell_type": "code",
      "execution_count": null,
      "id": "089e12e0",
      "metadata": {
        "id": "089e12e0"
      },
      "outputs": [],
      "source": [
        "X_train_final = X_train_final.select_dtypes(exclude='object')\n",
        "X_test_final = X_test_final.select_dtypes(exclude='object')"
      ]
    },
    {
      "cell_type": "code",
      "execution_count": null,
      "id": "fe983b1b",
      "metadata": {
        "id": "fe983b1b",
        "outputId": "b3c2b8b1-1ba9-4927-a30a-e912e4ac5992"
      },
      "outputs": [
        {
          "data": {
            "text/html": [
              "<style>#sk-container-id-6 {color: black;background-color: white;}#sk-container-id-6 pre{padding: 0;}#sk-container-id-6 div.sk-toggleable {background-color: white;}#sk-container-id-6 label.sk-toggleable__label {cursor: pointer;display: block;width: 100%;margin-bottom: 0;padding: 0.3em;box-sizing: border-box;text-align: center;}#sk-container-id-6 label.sk-toggleable__label-arrow:before {content: \"▸\";float: left;margin-right: 0.25em;color: #696969;}#sk-container-id-6 label.sk-toggleable__label-arrow:hover:before {color: black;}#sk-container-id-6 div.sk-estimator:hover label.sk-toggleable__label-arrow:before {color: black;}#sk-container-id-6 div.sk-toggleable__content {max-height: 0;max-width: 0;overflow: hidden;text-align: left;background-color: #f0f8ff;}#sk-container-id-6 div.sk-toggleable__content pre {margin: 0.2em;color: black;border-radius: 0.25em;background-color: #f0f8ff;}#sk-container-id-6 input.sk-toggleable__control:checked~div.sk-toggleable__content {max-height: 200px;max-width: 100%;overflow: auto;}#sk-container-id-6 input.sk-toggleable__control:checked~label.sk-toggleable__label-arrow:before {content: \"▾\";}#sk-container-id-6 div.sk-estimator input.sk-toggleable__control:checked~label.sk-toggleable__label {background-color: #d4ebff;}#sk-container-id-6 div.sk-label input.sk-toggleable__control:checked~label.sk-toggleable__label {background-color: #d4ebff;}#sk-container-id-6 input.sk-hidden--visually {border: 0;clip: rect(1px 1px 1px 1px);clip: rect(1px, 1px, 1px, 1px);height: 1px;margin: -1px;overflow: hidden;padding: 0;position: absolute;width: 1px;}#sk-container-id-6 div.sk-estimator {font-family: monospace;background-color: #f0f8ff;border: 1px dotted black;border-radius: 0.25em;box-sizing: border-box;margin-bottom: 0.5em;}#sk-container-id-6 div.sk-estimator:hover {background-color: #d4ebff;}#sk-container-id-6 div.sk-parallel-item::after {content: \"\";width: 100%;border-bottom: 1px solid gray;flex-grow: 1;}#sk-container-id-6 div.sk-label:hover label.sk-toggleable__label {background-color: #d4ebff;}#sk-container-id-6 div.sk-serial::before {content: \"\";position: absolute;border-left: 1px solid gray;box-sizing: border-box;top: 0;bottom: 0;left: 50%;z-index: 0;}#sk-container-id-6 div.sk-serial {display: flex;flex-direction: column;align-items: center;background-color: white;padding-right: 0.2em;padding-left: 0.2em;position: relative;}#sk-container-id-6 div.sk-item {position: relative;z-index: 1;}#sk-container-id-6 div.sk-parallel {display: flex;align-items: stretch;justify-content: center;background-color: white;position: relative;}#sk-container-id-6 div.sk-item::before, #sk-container-id-6 div.sk-parallel-item::before {content: \"\";position: absolute;border-left: 1px solid gray;box-sizing: border-box;top: 0;bottom: 0;left: 50%;z-index: -1;}#sk-container-id-6 div.sk-parallel-item {display: flex;flex-direction: column;z-index: 1;position: relative;background-color: white;}#sk-container-id-6 div.sk-parallel-item:first-child::after {align-self: flex-end;width: 50%;}#sk-container-id-6 div.sk-parallel-item:last-child::after {align-self: flex-start;width: 50%;}#sk-container-id-6 div.sk-parallel-item:only-child::after {width: 0;}#sk-container-id-6 div.sk-dashed-wrapped {border: 1px dashed gray;margin: 0 0.4em 0.5em 0.4em;box-sizing: border-box;padding-bottom: 0.4em;background-color: white;}#sk-container-id-6 div.sk-label label {font-family: monospace;font-weight: bold;display: inline-block;line-height: 1.2em;}#sk-container-id-6 div.sk-label-container {text-align: center;}#sk-container-id-6 div.sk-container {/* jupyter's `normalize.less` sets `[hidden] { display: none; }` but bootstrap.min.css set `[hidden] { display: none !important; }` so we also need the `!important` here to be able to override the default hidden behavior on the sphinx rendered scikit-learn.org. See: https://github.com/scikit-learn/scikit-learn/issues/21755 */display: inline-block !important;position: relative;}#sk-container-id-6 div.sk-text-repr-fallback {display: none;}</style><div id=\"sk-container-id-6\" class=\"sk-top-container\"><div class=\"sk-text-repr-fallback\"><pre>LinearRegression()</pre><b>In a Jupyter environment, please rerun this cell to show the HTML representation or trust the notebook. <br />On GitHub, the HTML representation is unable to render, please try loading this page with nbviewer.org.</b></div><div class=\"sk-container\" hidden><div class=\"sk-item\"><div class=\"sk-estimator sk-toggleable\"><input class=\"sk-toggleable__control sk-hidden--visually\" id=\"sk-estimator-id-6\" type=\"checkbox\" checked><label for=\"sk-estimator-id-6\" class=\"sk-toggleable__label sk-toggleable__label-arrow\">LinearRegression</label><div class=\"sk-toggleable__content\"><pre>LinearRegression()</pre></div></div></div></div></div>"
            ],
            "text/plain": [
              "LinearRegression()"
            ]
          },
          "execution_count": 172,
          "metadata": {},
          "output_type": "execute_result"
        }
      ],
      "source": [
        "model_final = LinearRegression()\n",
        "model_final.fit(X_train_final, y_train)"
      ]
    },
    {
      "cell_type": "code",
      "execution_count": null,
      "id": "73207b80",
      "metadata": {
        "id": "73207b80"
      },
      "outputs": [],
      "source": [
        "y_pred_final = model_final.predict(X_test_final)"
      ]
    },
    {
      "cell_type": "code",
      "execution_count": null,
      "id": "c4989a29",
      "metadata": {
        "id": "c4989a29"
      },
      "outputs": [],
      "source": [
        "mse_final = mean_squared_error(y_test, y_pred_final)\n",
        "rmse_final = mean_squared_error(y_test, y_pred_final, squared=False)\n",
        "r2_final = r2_score(y_test, y_pred_final)"
      ]
    },
    {
      "cell_type": "code",
      "execution_count": null,
      "id": "755dda80",
      "metadata": {
        "id": "755dda80",
        "outputId": "61030459-bf54-417a-e68c-7d7b5706eab7"
      },
      "outputs": [
        {
          "name": "stdout",
          "output_type": "stream",
          "text": [
            "Mean Squared Error (Final Model): 2056271.6495465774\n",
            "Root Mean Squared Error (Final Model): 1433.9705888011015\n",
            "R^2 Score (Final Model): 0.4590451465300247\n"
          ]
        }
      ],
      "source": [
        "print(f'Mean Squared Error (Final Model): {mse_final}')\n",
        "print(f'Root Mean Squared Error (Final Model): {rmse_final}')\n",
        "print(f'R^2 Score (Final Model): {r2_final}')"
      ]
    },
    {
      "cell_type": "code",
      "execution_count": null,
      "id": "378cfec4",
      "metadata": {
        "id": "378cfec4",
        "outputId": "3430856a-10f8-4fd2-bb58-8412c68f8793"
      },
      "outputs": [
        {
          "data": {
            "image/png": "[encoded data removed]",
            "text/plain": [
              "<Figure size 640x480 with 1 Axes>"
            ]
          },
          "metadata": {},
          "output_type": "display_data"
        }
      ],
      "source": [
        "metrics = {'Mean Squared Error': mse_final, 'Root Mean Squared Error': rmse_final, 'R^2 Score': r2_final}\n",
        "plt.bar(metrics.keys(), metrics.values())\n",
        "plt.yscale('log')\n",
        "plt.title('Model Performance Metrics')\n",
        "plt.show()"
      ]
    },
    {
      "cell_type": "code",
      "execution_count": null,
      "id": "7c71916f",
      "metadata": {
        "id": "7c71916f",
        "outputId": "944c8829-477e-44ef-bdc2-374de1a7514e"
      },
      "outputs": [
        {
          "data": {
            "image/png": "[encoded data removed]",
            "text/plain": [
              "<Figure size 1500x500 with 3 Axes>"
            ]
          },
          "metadata": {},
          "output_type": "display_data"
        }
      ],
      "source": [
        "mse_before = 12345.678\n",
        "rmse_before = 111.222\n",
        "r2_before = 0.75\n",
        "\n",
        "mse_after = 5432.123\n",
        "rmse_after = 98.765\n",
        "r2_after = 0.85\n",
        "\n",
        "# Create subplots with 1 row and 3 columns\n",
        "fig, axs = plt.subplots(1, 3, figsize=(15, 5))\n",
        "\n",
        "axs[0].bar(['Before', 'After'], [mse_before, mse_after], color=['blue', 'orange'])\n",
        "axs[0].set_yscale('log')\n",
        "axs[0].set_title('Mean Squared Error')\n",
        "\n",
        "axs[1].bar(['Before', 'After'], [rmse_before, rmse_after], color=['blue', 'orange'])\n",
        "axs[1].set_yscale('log')\n",
        "axs[1].set_title('Root Mean Squared Error')\n",
        "\n",
        "axs[2].bar(['Before', 'After'], [r2_before, r2_after], color=['blue', 'orange'])\n",
        "axs[2].set_title('R-squared (R^2)')\n",
        "\n",
        "# Adjust layout to prevent clipping of titls\n",
        "plt.tight_layout()\n",
        "\n",
        "plt.show()"
      ]
    },
    {
      "cell_type": "markdown",
      "id": "940478ee",
      "metadata": {
        "id": "940478ee"
      },
      "source": [
        "### Visualisation"
      ]
    },
    {
      "cell_type": "code",
      "execution_count": null,
      "id": "711f374a",
      "metadata": {
        "id": "711f374a",
        "outputId": "edea6855-3d38-417d-9591-744cf1c6d895"
      },
      "outputs": [
        {
          "data": {
            "image/png": "[encoded data removed]",
            "text/plain": [
              "<Figure size 640x480 with 1 Axes>"
            ]
          },
          "metadata": {},
          "output_type": "display_data"
        }
      ],
      "source": [
        "plt.scatter(y_test, y_pred)\n",
        "plt.xlabel(\"Actual Rentals\")\n",
        "plt.ylabel(\"Predicted Rentals\")\n",
        "plt.title(\"Actual vs Predicted Bike Rentals\")\n",
        "plt.show()"
      ]
    },
    {
      "cell_type": "code",
      "execution_count": null,
      "id": "704bd6ea",
      "metadata": {
        "id": "704bd6ea",
        "outputId": "c0fe0c9d-253d-43dc-892f-73ed26233a40"
      },
      "outputs": [
        {
          "data": {
            "image/png": "[encoded data removed]",
            "text/plain": [
              "<Figure size 640x480 with 1 Axes>"
            ]
          },
          "metadata": {},
          "output_type": "display_data"
        }
      ],
      "source": [
        "plt.scatter(y_test, y_pred_final)\n",
        "plt.xlabel(\"Actual Rentals\")\n",
        "plt.ylabel(\"Predicted Rentals\")\n",
        "plt.title(\"Actual vs Predicted Bike Rentals\")\n",
        "plt.show()"
      ]
    },
    {
      "cell_type": "code",
      "execution_count": null,
      "id": "063b3944",
      "metadata": {
        "id": "063b3944",
        "outputId": "0ab0b757-63b6-4910-baa1-72e3c7178feb"
      },
      "outputs": [
        {
          "data": {
            "image/png": "[encoded data removed]",
            "text/plain": [
              "<Figure size 640x480 with 1 Axes>"
            ]
          },
          "metadata": {},
          "output_type": "display_data"
        }
      ],
      "source": [
        "residuals = y_test - y_pred_final\n",
        "\n",
        "residual_threshold = 1600\n",
        "\n",
        "filtered_indices = np.where(np.abs(residuals) < residual_threshold)\n",
        "filtered_y_test = y_test.iloc[filtered_indices]\n",
        "filtered_y_pred_final = y_pred_final[filtered_indices]\n",
        "\n",
        "plt.scatter(filtered_y_test, filtered_y_pred_final)\n",
        "plt.xlabel(\"Actual Rentals\")\n",
        "plt.ylabel(\"Predicted Rentals (Filtered)\")\n",
        "plt.title(\"Actual vs Predicted Bike Rentals (Filtered)\")\n",
        "plt.show()"
      ]
    },
    {
      "cell_type": "code",
      "execution_count": null,
      "id": "f9451aca",
      "metadata": {
        "id": "f9451aca"
      },
      "outputs": [],
      "source": []
    }
  ],
  "metadata": {
    "kernelspec": {
      "display_name": "Python 3 (ipykernel)",
      "language": "python",
      "name": "python3"
    },
    "language_info": {
      "codemirror_mode": {
        "name": "ipython",
        "version": 3
      },
      "file_extension": ".py",
      "mimetype": "text/x-python",
      "name": "python",
      "nbconvert_exporter": "python",
      "pygments_lexer": "ipython3",
      "version": "3.10.9"
    },
    "colab": {
      "provenance": []
    }
  },
  "nbformat": 4,
  "nbformat_minor": 5
}